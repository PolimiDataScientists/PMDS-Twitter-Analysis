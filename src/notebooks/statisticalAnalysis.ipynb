{
 "cells": [
  {
   "cell_type": "markdown",
   "metadata": {},
   "source": [
    "### Import Libraries"
   ]
  },
  {
   "cell_type": "code",
   "execution_count": 1,
   "metadata": {},
   "outputs": [],
   "source": [
    "import pandas as pd\n",
    "import os\n",
    "\n",
    "module_path = os.path.abspath(os.path.join('..'))\n",
    "if module_path not in sys.path:\n",
    "    sys.path.append(module_path)"
   ]
  },
  {
   "cell_type": "code",
   "execution_count": 2,
   "metadata": {},
   "outputs": [],
   "source": [
    "from analysis.StatisticalAnalysis.generalStatistics import GeneralStatistics\n",
    "from analysis.StatisticalAnalysis.tweetsStatistics import TweetsStatistics\n",
    "from utils.DataCleaning.CountryDataExtractor import CountryDataExtractor"
   ]
  },
  {
   "cell_type": "markdown",
   "metadata": {},
   "source": [
    "### Import Data"
   ]
  },
  {
   "cell_type": "code",
   "execution_count": 3,
   "metadata": {},
   "outputs": [],
   "source": [
    "covidDataGlobal = pd.read_csv(\"../../data/owid-covid-data.csv\")"
   ]
  },
  {
   "cell_type": "code",
   "execution_count": 4,
   "metadata": {},
   "outputs": [],
   "source": [
    "tweetsUS = pd.read_csv(\"../../data/tweetsUS.csv\", names=[\"timestamp\", \"date\", \"lang\", \"text\"])"
   ]
  },
  {
   "cell_type": "code",
   "execution_count": 5,
   "metadata": {},
   "outputs": [],
   "source": [
    "tweetsGB = pd.read_csv(\"../../data/tweetsGB.csv\", names=[\"timestamp\", \"date\", \"lang\", \"text\"])"
   ]
  },
  {
   "cell_type": "code",
   "execution_count": 6,
   "metadata": {},
   "outputs": [],
   "source": [
    "tweetsAU = pd.read_csv(\"../../data/tweetsAU.csv\", names=[\"timestamp\", \"date\", \"lang\", \"text\"])"
   ]
  },
  {
   "cell_type": "code",
   "execution_count": 7,
   "metadata": {},
   "outputs": [],
   "source": [
    "sentimentsUS = pd.read_csv(\"../../data/sentimentsUS.csv\")"
   ]
  },
  {
   "cell_type": "code",
   "execution_count": 8,
   "metadata": {},
   "outputs": [],
   "source": [
    "sentimentsGB = pd.read_csv(\"../../data/sentimentsGB.csv\")"
   ]
  },
  {
   "cell_type": "code",
   "execution_count": 9,
   "metadata": {},
   "outputs": [],
   "source": [
    "sentimentsAU = pd.read_csv(\"../../data/sentimentsAU.csv\")"
   ]
  },
  {
   "cell_type": "code",
   "execution_count": 10,
   "metadata": {},
   "outputs": [],
   "source": [
    "countryDataExtractor = CountryDataExtractor(covidDataGlobal)\n",
    "\n",
    "covidDataUS = countryDataExtractor.extractCountry(\"USA\")\n",
    "\n",
    "covidDataGB = countryDataExtractor.extractCountry(\"GBR\")\n",
    "\n",
    "covidDataAU = countryDataExtractor.extractCountry(\"AUS\")"
   ]
  },
  {
   "cell_type": "markdown",
   "metadata": {},
   "source": [
    "### Inizialize Statistics Class"
   ]
  },
  {
   "cell_type": "code",
   "execution_count": 11,
   "metadata": {},
   "outputs": [],
   "source": [
    "usStatistics = GeneralStatistics(covidDataUS)\n",
    "gbStatistics = GeneralStatistics(covidDataGB)\n",
    "auStatistics = GeneralStatistics(covidDataAU)"
   ]
  },
  {
   "cell_type": "code",
   "execution_count": 12,
   "metadata": {},
   "outputs": [
    {
     "data": {
      "text/plain": [
       "Index(['iso_code', 'continent', 'location', 'date', 'total_cases', 'new_cases',\n",
       "       'new_cases_smoothed', 'total_deaths', 'new_deaths',\n",
       "       'new_deaths_smoothed', 'total_cases_per_million',\n",
       "       'new_cases_per_million', 'new_cases_smoothed_per_million',\n",
       "       'total_deaths_per_million', 'new_deaths_per_million',\n",
       "       'new_deaths_smoothed_per_million', 'reproduction_rate', 'icu_patients',\n",
       "       'icu_patients_per_million', 'hosp_patients',\n",
       "       'hosp_patients_per_million', 'weekly_icu_admissions',\n",
       "       'weekly_icu_admissions_per_million', 'weekly_hosp_admissions',\n",
       "       'weekly_hosp_admissions_per_million', 'total_tests', 'new_tests',\n",
       "       'total_tests_per_thousand', 'new_tests_per_thousand',\n",
       "       'new_tests_smoothed', 'new_tests_smoothed_per_thousand',\n",
       "       'positive_rate', 'tests_per_case', 'tests_units', 'total_vaccinations',\n",
       "       'people_vaccinated', 'people_fully_vaccinated', 'total_boosters',\n",
       "       'new_vaccinations', 'new_vaccinations_smoothed',\n",
       "       'total_vaccinations_per_hundred', 'people_vaccinated_per_hundred',\n",
       "       'people_fully_vaccinated_per_hundred', 'total_boosters_per_hundred',\n",
       "       'new_vaccinations_smoothed_per_million',\n",
       "       'new_people_vaccinated_smoothed',\n",
       "       'new_people_vaccinated_smoothed_per_hundred', 'stringency_index',\n",
       "       'population', 'population_density', 'median_age', 'aged_65_older',\n",
       "       'aged_70_older', 'gdp_per_capita', 'extreme_poverty',\n",
       "       'cardiovasc_death_rate', 'diabetes_prevalence', 'female_smokers',\n",
       "       'male_smokers', 'handwashing_facilities', 'hospital_beds_per_thousand',\n",
       "       'life_expectancy', 'human_development_index',\n",
       "       'excess_mortality_cumulative_absolute', 'excess_mortality_cumulative',\n",
       "       'excess_mortality', 'excess_mortality_cumulative_per_million'],\n",
       "      dtype='object')"
      ]
     },
     "execution_count": 12,
     "metadata": {},
     "output_type": "execute_result"
    }
   ],
   "source": [
    "usStatistics.dataset.columns #new_cases, new_cases_smoothed, new_deaths, new_deaths_smoothed, new_tests"
   ]
  },
  {
   "cell_type": "code",
   "execution_count": 13,
   "metadata": {},
   "outputs": [
    {
     "data": {
      "text/plain": [
       "(              date  new_cases\n",
       " 176994  2022-01-10  1383908.0,\n",
       "               date  new_cases\n",
       " 176218  2022-03-21   225992.0,\n",
       "              date  new_cases\n",
       " 10489  2022-01-12   175271.0)"
      ]
     },
     "execution_count": 13,
     "metadata": {},
     "output_type": "execute_result"
    }
   ],
   "source": [
    "usStatistics.computeMaxDayForCol(\"new_cases\", indexCol=\"date\"), gbStatistics.computeMaxDayForCol(\"new_cases\", indexCol=\"date\"), auStatistics.computeMaxDayForCol(\"new_cases\", indexCol=\"date\")"
   ]
  },
  {
   "cell_type": "code",
   "execution_count": 14,
   "metadata": {},
   "outputs": [
    {
     "data": {
      "text/plain": [
       "(              date  new_cases_smoothed\n",
       " 176999  2022-01-15          807814.143,\n",
       "               date  new_cases_smoothed\n",
       " 176143  2022-01-05          182908.143,\n",
       "              date  new_cases_smoothed\n",
       " 10490  2022-01-13          109214.714)"
      ]
     },
     "execution_count": 14,
     "metadata": {},
     "output_type": "execute_result"
    }
   ],
   "source": [
    "usStatistics.computeMaxDayForCol(\"new_cases_smoothed\", indexCol=\"date\"), gbStatistics.computeMaxDayForCol(\"new_cases_smoothed\", indexCol=\"date\"), auStatistics.computeMaxDayForCol(\"new_cases_smoothed\", indexCol=\"date\")"
   ]
  },
  {
   "cell_type": "code",
   "execution_count": 15,
   "metadata": {},
   "outputs": [
    {
     "data": {
      "text/plain": [
       "(              date  new_deaths\n",
       " 176639  2021-01-20      4411.0,\n",
       "               date  new_deaths\n",
       " 175793  2021-01-20      1820.0,\n",
       "              date  new_deaths\n",
       " 10568  2022-04-01       357.0)"
      ]
     },
     "execution_count": 15,
     "metadata": {},
     "output_type": "execute_result"
    }
   ],
   "source": [
    "usStatistics.computeMaxDayForCol(\"new_deaths\", indexCol=\"date\"), gbStatistics.computeMaxDayForCol(\"new_deaths\", indexCol=\"date\"), auStatistics.computeMaxDayForCol(\"new_deaths\", indexCol=\"date\")"
   ]
  },
  {
   "cell_type": "code",
   "execution_count": 16,
   "metadata": {},
   "outputs": [
    {
     "data": {
      "text/plain": [
       "(              date  new_deaths_smoothed\n",
       " 176632  2021-01-13             3393.429,\n",
       "               date  new_deaths_smoothed\n",
       " 175796  2021-01-23             1248.714,\n",
       "              date  new_deaths_smoothed\n",
       " 10507  2022-01-30               87.429)"
      ]
     },
     "execution_count": 16,
     "metadata": {},
     "output_type": "execute_result"
    }
   ],
   "source": [
    "usStatistics.computeMaxDayForCol(\"new_deaths_smoothed\", indexCol=\"date\"), gbStatistics.computeMaxDayForCol(\"new_deaths_smoothed\", indexCol=\"date\"), auStatistics.computeMaxDayForCol(\"new_deaths_smoothed\", indexCol=\"date\")"
   ]
  },
  {
   "cell_type": "markdown",
   "metadata": {},
   "source": [
    "## Statistics on Tweets"
   ]
  },
  {
   "cell_type": "code",
   "execution_count": 17,
   "metadata": {},
   "outputs": [
    {
     "name": "stdout",
     "output_type": "stream",
     "text": [
      "day with max tweets 2020: \n",
      "           day  count  year\n",
      "67  2020-04-19    498  2020\n",
      "\n",
      "day with max tweets 2021: \n",
      "            day  count  year\n",
      "578  2021-09-12    184  2021\n",
      "\n",
      "mean tweets count 2020: 167.6327160493827\n",
      "\n",
      "mean tweets count 2021: 62.8021978021978\n",
      "\n",
      "medan tweets count 2020: 142.5\n",
      "\n",
      "median tweets count 2021: 56.5\n"
     ]
    }
   ],
   "source": [
    "tweetsStatistics = TweetsStatistics(tweetsUS)\n",
    "tweetsStatistics.overview()"
   ]
  },
  {
   "cell_type": "code",
   "execution_count": 18,
   "metadata": {},
   "outputs": [
    {
     "name": "stdout",
     "output_type": "stream",
     "text": [
      "day with max tweets 2020: \n",
      "           day  count  year\n",
      "57  2020-04-18    207  2020\n",
      "\n",
      "day with max tweets 2021: \n",
      "            day  count  year\n",
      "318  2021-01-04    142  2021\n",
      "\n",
      "mean tweets count 2020: 50.78095238095238\n",
      "\n",
      "mean tweets count 2021: 30.86813186813187\n",
      "\n",
      "medan tweets count 2020: 46.0\n",
      "\n",
      "median tweets count 2021: 26.0\n"
     ]
    }
   ],
   "source": [
    "tweetsStatisticsGB = TweetsStatistics(tweetsGB)\n",
    "tweetsStatisticsGB.overview()"
   ]
  },
  {
   "cell_type": "code",
   "execution_count": 19,
   "metadata": {},
   "outputs": [
    {
     "name": "stdout",
     "output_type": "stream",
     "text": [
      "day with max tweets 2020: \n",
      "           day  count  year\n",
      "33  2020-04-01     37  2020\n",
      "50  2020-04-18     37  2020\n",
      "\n",
      "day with max tweets 2021: \n",
      "            day  count  year\n",
      "510  2021-07-24     30  2021\n",
      "\n",
      "mean tweets count 2020: 9.49025974025974\n",
      "\n",
      "mean tweets count 2021: 7.886111111111111\n",
      "\n",
      "medan tweets count 2020: 8.0\n",
      "\n",
      "median tweets count 2021: 6.0\n"
     ]
    }
   ],
   "source": [
    "tweetsStatisticsAU = TweetsStatistics(tweetsAU)\n",
    "tweetsStatisticsAU.overview()"
   ]
  },
  {
   "cell_type": "markdown",
   "metadata": {},
   "source": [
    "## Statistics on Sentiments"
   ]
  },
  {
   "cell_type": "code",
   "execution_count": 20,
   "metadata": {},
   "outputs": [],
   "source": [
    "usSentimentsStatistics = GeneralStatistics(sentimentsUS)\n",
    "gbSentimentsStatistics = GeneralStatistics(sentimentsGB)\n",
    "auSentimentsStatistics = GeneralStatistics(sentimentsAU)"
   ]
  },
  {
   "cell_type": "code",
   "execution_count": 21,
   "metadata": {},
   "outputs": [
    {
     "data": {
      "text/plain": [
       "(           day  negPercentage\n",
       " 15  2020-02-27       0.538462,\n",
       "             day  negPercentage\n",
       " 622  2021-11-04       0.741935,\n",
       "             day  negPercentage\n",
       " 402  2021-04-06            0.8\n",
       " 598  2021-10-20            0.8)"
      ]
     },
     "execution_count": 21,
     "metadata": {},
     "output_type": "execute_result"
    }
   ],
   "source": [
    "usSentimentsStatistics.computeMaxDayForCol(\"negPercentage\", perc=True), gbSentimentsStatistics.computeMaxDayForCol(\"negPercentage\", perc=True), auSentimentsStatistics.computeMaxDayForCol(\"negPercentage\", perc=True)"
   ]
  },
  {
   "cell_type": "code",
   "execution_count": 22,
   "metadata": {},
   "outputs": [
    {
     "data": {
      "text/plain": [
       "(            day  posPercentage\n",
       " 578  2021-09-12       0.788043,\n",
       "             day  posPercentage\n",
       " 144  2020-07-14       0.666667,\n",
       "             day  posPercentage\n",
       " 198  2020-09-13            0.8\n",
       " 216  2020-10-01            0.8\n",
       " 224  2020-10-09            0.8\n",
       " 375  2021-03-10            0.8)"
      ]
     },
     "execution_count": 22,
     "metadata": {},
     "output_type": "execute_result"
    }
   ],
   "source": [
    "usSentimentsStatistics.computeMaxDayForCol(\"posPercentage\", perc=True), gbSentimentsStatistics.computeMaxDayForCol(\"posPercentage\", perc=True), auSentimentsStatistics.computeMaxDayForCol(\"posPercentage\", perc=True)"
   ]
  },
  {
   "cell_type": "code",
   "execution_count": 23,
   "metadata": {},
   "outputs": [
    {
     "name": "stderr",
     "output_type": "stream",
     "text": [
      "/home/alle/Repos/PMDS-Twitter-Analysis/src/analysis/StatisticalAnalysis/generalStatistics.py:18: SettingWithCopyWarning: \n",
      "A value is trying to be set on a copy of a slice from a DataFrame.\n",
      "Try using .loc[row_indexer,col_indexer] = value instead\n",
      "\n",
      "See the caveats in the documentation: https://pandas.pydata.org/pandas-docs/stable/user_guide/indexing.html#returning-a-view-versus-a-copy\n",
      "  datasetNoOutliers[\"month\"] = datasetNoOutliers[indexCol].apply(lambda x:x[:7])\n",
      "/home/alle/Repos/PMDS-Twitter-Analysis/src/analysis/StatisticalAnalysis/generalStatistics.py:18: SettingWithCopyWarning: \n",
      "A value is trying to be set on a copy of a slice from a DataFrame.\n",
      "Try using .loc[row_indexer,col_indexer] = value instead\n",
      "\n",
      "See the caveats in the documentation: https://pandas.pydata.org/pandas-docs/stable/user_guide/indexing.html#returning-a-view-versus-a-copy\n",
      "  datasetNoOutliers[\"month\"] = datasetNoOutliers[indexCol].apply(lambda x:x[:7])\n",
      "/home/alle/Repos/PMDS-Twitter-Analysis/src/analysis/StatisticalAnalysis/generalStatistics.py:18: SettingWithCopyWarning: \n",
      "A value is trying to be set on a copy of a slice from a DataFrame.\n",
      "Try using .loc[row_indexer,col_indexer] = value instead\n",
      "\n",
      "See the caveats in the documentation: https://pandas.pydata.org/pandas-docs/stable/user_guide/indexing.html#returning-a-view-versus-a-copy\n",
      "  datasetNoOutliers[\"month\"] = datasetNoOutliers[indexCol].apply(lambda x:x[:7])\n"
     ]
    },
    {
     "data": {
      "text/plain": [
       "(month\n",
       " 2020-05    0.32502\n",
       " Name: posPercentage, dtype: float64,\n",
       " month\n",
       " 2020-02    0.444444\n",
       " Name: posPercentage, dtype: float64,\n",
       " month\n",
       " 2020-06    0.431785\n",
       " Name: posPercentage, dtype: float64)"
      ]
     },
     "execution_count": 23,
     "metadata": {},
     "output_type": "execute_result"
    }
   ],
   "source": [
    "usSentimentsStatistics.computeMaxMonthForCol(\"posPercentage\", perc=True), gbSentimentsStatistics.computeMaxMonthForCol(\"posPercentage\", perc=True), auSentimentsStatistics.computeMaxMonthForCol(\"posPercentage\", perc=True)"
   ]
  },
  {
   "cell_type": "code",
   "execution_count": 24,
   "metadata": {},
   "outputs": [
    {
     "name": "stderr",
     "output_type": "stream",
     "text": [
      "/home/alle/Repos/PMDS-Twitter-Analysis/src/analysis/StatisticalAnalysis/generalStatistics.py:18: SettingWithCopyWarning: \n",
      "A value is trying to be set on a copy of a slice from a DataFrame.\n",
      "Try using .loc[row_indexer,col_indexer] = value instead\n",
      "\n",
      "See the caveats in the documentation: https://pandas.pydata.org/pandas-docs/stable/user_guide/indexing.html#returning-a-view-versus-a-copy\n",
      "  datasetNoOutliers[\"month\"] = datasetNoOutliers[indexCol].apply(lambda x:x[:7])\n",
      "/home/alle/Repos/PMDS-Twitter-Analysis/src/analysis/StatisticalAnalysis/generalStatistics.py:18: SettingWithCopyWarning: \n",
      "A value is trying to be set on a copy of a slice from a DataFrame.\n",
      "Try using .loc[row_indexer,col_indexer] = value instead\n",
      "\n",
      "See the caveats in the documentation: https://pandas.pydata.org/pandas-docs/stable/user_guide/indexing.html#returning-a-view-versus-a-copy\n",
      "  datasetNoOutliers[\"month\"] = datasetNoOutliers[indexCol].apply(lambda x:x[:7])\n",
      "/home/alle/Repos/PMDS-Twitter-Analysis/src/analysis/StatisticalAnalysis/generalStatistics.py:18: SettingWithCopyWarning: \n",
      "A value is trying to be set on a copy of a slice from a DataFrame.\n",
      "Try using .loc[row_indexer,col_indexer] = value instead\n",
      "\n",
      "See the caveats in the documentation: https://pandas.pydata.org/pandas-docs/stable/user_guide/indexing.html#returning-a-view-versus-a-copy\n",
      "  datasetNoOutliers[\"month\"] = datasetNoOutliers[indexCol].apply(lambda x:x[:7])\n"
     ]
    },
    {
     "data": {
      "text/plain": [
       "(month\n",
       " 2020-02    0.317724\n",
       " Name: negPercentage, dtype: float64,\n",
       " month\n",
       " 2020-02    0.416667\n",
       " Name: negPercentage, dtype: float64,\n",
       " month\n",
       " 2021-11    0.363528\n",
       " Name: negPercentage, dtype: float64)"
      ]
     },
     "execution_count": 24,
     "metadata": {},
     "output_type": "execute_result"
    }
   ],
   "source": [
    "usSentimentsStatistics.computeMaxMonthForCol(\"negPercentage\", perc=True), gbSentimentsStatistics.computeMaxMonthForCol(\"negPercentage\", perc=True), auSentimentsStatistics.computeMaxMonthForCol(\"negPercentage\", perc=True)"
   ]
  }
 ],
 "metadata": {
  "interpreter": {
   "hash": "aee8b7b246df8f9039afb4144a1f6fd8d2ca17a180786b69acc140d282b71a49"
  },
  "kernelspec": {
   "display_name": "Python 3.9.1 64-bit",
   "language": "python",
   "name": "python3"
  },
  "language_info": {
   "codemirror_mode": {
    "name": "ipython",
    "version": 3
   },
   "file_extension": ".py",
   "mimetype": "text/x-python",
   "name": "python",
   "nbconvert_exporter": "python",
   "pygments_lexer": "ipython3",
   "version": "3.9.1"
  },
  "orig_nbformat": 4
 },
 "nbformat": 4,
 "nbformat_minor": 2
}
